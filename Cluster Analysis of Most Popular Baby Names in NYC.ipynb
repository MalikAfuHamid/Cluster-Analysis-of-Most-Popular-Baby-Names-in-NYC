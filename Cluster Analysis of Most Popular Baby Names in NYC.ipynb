{
 "cells": [
  {
   "cell_type": "markdown",
   "id": "adf2a132",
   "metadata": {},
   "source": [
    "# 1. Import Libraries"
   ]
  },
  {
   "cell_type": "code",
   "execution_count": 1,
   "id": "a7c789f3",
   "metadata": {},
   "outputs": [],
   "source": [
    "import numpy as np\n",
    "import pandas as pd\n",
    "import matplotlib.pyplot as plt\n",
    "import seaborn as sns\n",
    "from jcopml.plot import plot_missing_value"
   ]
  },
  {
   "cell_type": "markdown",
   "id": "73a95637",
   "metadata": {},
   "source": [
    "# 2. Import Dataset\n",
    "\n",
    "The data include items, such as:\n",
    "\n",
    "- BRTH_YR: birth year the baby\n",
    "\n",
    "- GNDR: gender\n",
    "\n",
    "- ETHCTY: mother's ethnicity\n",
    "\n",
    "- NM: baby's name\n",
    "\n",
    "- CNT: count of the name\n",
    "\n",
    "- RNK: ranking of the name\n",
    "\n",
    "Source of Dataset: https://data.world/data-society/most-popular-baby-names-in-nyc"
   ]
  },
  {
   "cell_type": "code",
   "execution_count": 2,
   "id": "3408fb47",
   "metadata": {},
   "outputs": [
    {
     "data": {
      "text/html": [
       "<div>\n",
       "<style scoped>\n",
       "    .dataframe tbody tr th:only-of-type {\n",
       "        vertical-align: middle;\n",
       "    }\n",
       "\n",
       "    .dataframe tbody tr th {\n",
       "        vertical-align: top;\n",
       "    }\n",
       "\n",
       "    .dataframe thead th {\n",
       "        text-align: right;\n",
       "    }\n",
       "</style>\n",
       "<table border=\"1\" class=\"dataframe\">\n",
       "  <thead>\n",
       "    <tr style=\"text-align: right;\">\n",
       "      <th></th>\n",
       "      <th>BRTH_YR</th>\n",
       "      <th>GNDR</th>\n",
       "      <th>ETHCTY</th>\n",
       "      <th>NM</th>\n",
       "      <th>CNT</th>\n",
       "      <th>RNK</th>\n",
       "    </tr>\n",
       "  </thead>\n",
       "  <tbody>\n",
       "    <tr>\n",
       "      <th>0</th>\n",
       "      <td>2011</td>\n",
       "      <td>FEMALE</td>\n",
       "      <td>HISPANIC</td>\n",
       "      <td>GERALDINE</td>\n",
       "      <td>13</td>\n",
       "      <td>75</td>\n",
       "    </tr>\n",
       "    <tr>\n",
       "      <th>1</th>\n",
       "      <td>2011</td>\n",
       "      <td>FEMALE</td>\n",
       "      <td>HISPANIC</td>\n",
       "      <td>GIA</td>\n",
       "      <td>21</td>\n",
       "      <td>67</td>\n",
       "    </tr>\n",
       "    <tr>\n",
       "      <th>2</th>\n",
       "      <td>2011</td>\n",
       "      <td>FEMALE</td>\n",
       "      <td>HISPANIC</td>\n",
       "      <td>GIANNA</td>\n",
       "      <td>49</td>\n",
       "      <td>42</td>\n",
       "    </tr>\n",
       "    <tr>\n",
       "      <th>3</th>\n",
       "      <td>2011</td>\n",
       "      <td>FEMALE</td>\n",
       "      <td>HISPANIC</td>\n",
       "      <td>GISELLE</td>\n",
       "      <td>38</td>\n",
       "      <td>51</td>\n",
       "    </tr>\n",
       "    <tr>\n",
       "      <th>4</th>\n",
       "      <td>2011</td>\n",
       "      <td>FEMALE</td>\n",
       "      <td>HISPANIC</td>\n",
       "      <td>GRACE</td>\n",
       "      <td>36</td>\n",
       "      <td>53</td>\n",
       "    </tr>\n",
       "  </tbody>\n",
       "</table>\n",
       "</div>"
      ],
      "text/plain": [
       "   BRTH_YR    GNDR    ETHCTY         NM  CNT  RNK\n",
       "0     2011  FEMALE  HISPANIC  GERALDINE   13   75\n",
       "1     2011  FEMALE  HISPANIC        GIA   21   67\n",
       "2     2011  FEMALE  HISPANIC     GIANNA   49   42\n",
       "3     2011  FEMALE  HISPANIC    GISELLE   38   51\n",
       "4     2011  FEMALE  HISPANIC      GRACE   36   53"
      ]
     },
     "execution_count": 2,
     "metadata": {},
     "output_type": "execute_result"
    }
   ],
   "source": [
    "df = pd.read_csv('Most_Popular_Baby_Names_by_Sex_and_Mother_s_Ethnic_Group__New_York_City.csv')\n",
    "df.head()"
   ]
  },
  {
   "cell_type": "markdown",
   "id": "50af33f9",
   "metadata": {},
   "source": [
    "# 3. Exploratory Data Analysis"
   ]
  },
  {
   "cell_type": "code",
   "execution_count": 3,
   "id": "dae170b2",
   "metadata": {},
   "outputs": [],
   "source": [
    "df = df.drop_duplicates()"
   ]
  },
  {
   "cell_type": "code",
   "execution_count": 4,
   "id": "87a9f4d5",
   "metadata": {},
   "outputs": [
    {
     "data": {
      "text/html": [
       "<div>\n",
       "<style scoped>\n",
       "    .dataframe tbody tr th:only-of-type {\n",
       "        vertical-align: middle;\n",
       "    }\n",
       "\n",
       "    .dataframe tbody tr th {\n",
       "        vertical-align: top;\n",
       "    }\n",
       "\n",
       "    .dataframe thead th {\n",
       "        text-align: right;\n",
       "    }\n",
       "</style>\n",
       "<table border=\"1\" class=\"dataframe\">\n",
       "  <thead>\n",
       "    <tr style=\"text-align: right;\">\n",
       "      <th></th>\n",
       "      <th>BRTH_YR</th>\n",
       "      <th>GNDR</th>\n",
       "      <th>ETHCTY</th>\n",
       "      <th>NM</th>\n",
       "      <th>CNT</th>\n",
       "      <th>RNK</th>\n",
       "    </tr>\n",
       "  </thead>\n",
       "  <tbody>\n",
       "    <tr>\n",
       "      <th>0</th>\n",
       "      <td>2011</td>\n",
       "      <td>FEMALE</td>\n",
       "      <td>HISPANIC</td>\n",
       "      <td>GERALDINE</td>\n",
       "      <td>13</td>\n",
       "      <td>75</td>\n",
       "    </tr>\n",
       "    <tr>\n",
       "      <th>8315</th>\n",
       "      <td>2012</td>\n",
       "      <td>FEMALE</td>\n",
       "      <td>HISPANIC</td>\n",
       "      <td>GERALDINE</td>\n",
       "      <td>11</td>\n",
       "      <td>78</td>\n",
       "    </tr>\n",
       "  </tbody>\n",
       "</table>\n",
       "</div>"
      ],
      "text/plain": [
       "      BRTH_YR    GNDR    ETHCTY         NM  CNT  RNK\n",
       "0        2011  FEMALE  HISPANIC  GERALDINE   13   75\n",
       "8315     2012  FEMALE  HISPANIC  GERALDINE   11   78"
      ]
     },
     "execution_count": 4,
     "metadata": {},
     "output_type": "execute_result"
    }
   ],
   "source": [
    "df[df['NM'] == 'GERALDINE']"
   ]
  },
  {
   "cell_type": "markdown",
   "id": "a77cc34b",
   "metadata": {},
   "source": [
    "### Data information"
   ]
  },
  {
   "cell_type": "code",
   "execution_count": 5,
   "id": "8d5d51b1",
   "metadata": {},
   "outputs": [
    {
     "name": "stdout",
     "output_type": "stream",
     "text": [
      "<class 'pandas.core.frame.DataFrame'>\n",
      "Int64Index: 8073 entries, 0 to 13961\n",
      "Data columns (total 6 columns):\n",
      " #   Column   Non-Null Count  Dtype \n",
      "---  ------   --------------  ----- \n",
      " 0   BRTH_YR  8073 non-null   int64 \n",
      " 1   GNDR     8073 non-null   object\n",
      " 2   ETHCTY   8073 non-null   object\n",
      " 3   NM       8073 non-null   object\n",
      " 4   CNT      8073 non-null   int64 \n",
      " 5   RNK      8073 non-null   int64 \n",
      "dtypes: int64(3), object(3)\n",
      "memory usage: 441.5+ KB\n"
     ]
    }
   ],
   "source": [
    "df.info()"
   ]
  },
  {
   "cell_type": "markdown",
   "id": "f7524048",
   "metadata": {},
   "source": [
    "### Data Description "
   ]
  },
  {
   "cell_type": "code",
   "execution_count": 6,
   "id": "4f986c09",
   "metadata": {},
   "outputs": [
    {
     "data": {
      "text/html": [
       "<div>\n",
       "<style scoped>\n",
       "    .dataframe tbody tr th:only-of-type {\n",
       "        vertical-align: middle;\n",
       "    }\n",
       "\n",
       "    .dataframe tbody tr th {\n",
       "        vertical-align: top;\n",
       "    }\n",
       "\n",
       "    .dataframe thead th {\n",
       "        text-align: right;\n",
       "    }\n",
       "</style>\n",
       "<table border=\"1\" class=\"dataframe\">\n",
       "  <thead>\n",
       "    <tr style=\"text-align: right;\">\n",
       "      <th></th>\n",
       "      <th>BRTH_YR</th>\n",
       "      <th>CNT</th>\n",
       "      <th>RNK</th>\n",
       "    </tr>\n",
       "  </thead>\n",
       "  <tbody>\n",
       "    <tr>\n",
       "      <th>count</th>\n",
       "      <td>8073.000000</td>\n",
       "      <td>8073.000000</td>\n",
       "      <td>8073.000000</td>\n",
       "    </tr>\n",
       "    <tr>\n",
       "      <th>mean</th>\n",
       "      <td>2012.522482</td>\n",
       "      <td>34.480243</td>\n",
       "      <td>57.272761</td>\n",
       "    </tr>\n",
       "    <tr>\n",
       "      <th>std</th>\n",
       "      <td>1.118043</td>\n",
       "      <td>39.931078</td>\n",
       "      <td>25.609985</td>\n",
       "    </tr>\n",
       "    <tr>\n",
       "      <th>min</th>\n",
       "      <td>2011.000000</td>\n",
       "      <td>10.000000</td>\n",
       "      <td>1.000000</td>\n",
       "    </tr>\n",
       "    <tr>\n",
       "      <th>25%</th>\n",
       "      <td>2012.000000</td>\n",
       "      <td>13.000000</td>\n",
       "      <td>38.000000</td>\n",
       "    </tr>\n",
       "    <tr>\n",
       "      <th>50%</th>\n",
       "      <td>2013.000000</td>\n",
       "      <td>20.000000</td>\n",
       "      <td>59.000000</td>\n",
       "    </tr>\n",
       "    <tr>\n",
       "      <th>75%</th>\n",
       "      <td>2014.000000</td>\n",
       "      <td>36.000000</td>\n",
       "      <td>78.000000</td>\n",
       "    </tr>\n",
       "    <tr>\n",
       "      <th>max</th>\n",
       "      <td>2014.000000</td>\n",
       "      <td>426.000000</td>\n",
       "      <td>102.000000</td>\n",
       "    </tr>\n",
       "  </tbody>\n",
       "</table>\n",
       "</div>"
      ],
      "text/plain": [
       "           BRTH_YR          CNT          RNK\n",
       "count  8073.000000  8073.000000  8073.000000\n",
       "mean   2012.522482    34.480243    57.272761\n",
       "std       1.118043    39.931078    25.609985\n",
       "min    2011.000000    10.000000     1.000000\n",
       "25%    2012.000000    13.000000    38.000000\n",
       "50%    2013.000000    20.000000    59.000000\n",
       "75%    2014.000000    36.000000    78.000000\n",
       "max    2014.000000   426.000000   102.000000"
      ]
     },
     "execution_count": 6,
     "metadata": {},
     "output_type": "execute_result"
    }
   ],
   "source": [
    "df.describe()"
   ]
  },
  {
   "cell_type": "code",
   "execution_count": 7,
   "id": "dee2626d",
   "metadata": {},
   "outputs": [
    {
     "data": {
      "text/html": [
       "<div>\n",
       "<style scoped>\n",
       "    .dataframe tbody tr th:only-of-type {\n",
       "        vertical-align: middle;\n",
       "    }\n",
       "\n",
       "    .dataframe tbody tr th {\n",
       "        vertical-align: top;\n",
       "    }\n",
       "\n",
       "    .dataframe thead th {\n",
       "        text-align: right;\n",
       "    }\n",
       "</style>\n",
       "<table border=\"1\" class=\"dataframe\">\n",
       "  <thead>\n",
       "    <tr style=\"text-align: right;\">\n",
       "      <th></th>\n",
       "      <th>GNDR</th>\n",
       "      <th>ETHCTY</th>\n",
       "      <th>NM</th>\n",
       "    </tr>\n",
       "  </thead>\n",
       "  <tbody>\n",
       "    <tr>\n",
       "      <th>count</th>\n",
       "      <td>8073</td>\n",
       "      <td>8073</td>\n",
       "      <td>8073</td>\n",
       "    </tr>\n",
       "    <tr>\n",
       "      <th>unique</th>\n",
       "      <td>2</td>\n",
       "      <td>7</td>\n",
       "      <td>2811</td>\n",
       "    </tr>\n",
       "    <tr>\n",
       "      <th>top</th>\n",
       "      <td>FEMALE</td>\n",
       "      <td>HISPANIC</td>\n",
       "      <td>Riley</td>\n",
       "    </tr>\n",
       "    <tr>\n",
       "      <th>freq</th>\n",
       "      <td>4127</td>\n",
       "      <td>2400</td>\n",
       "      <td>14</td>\n",
       "    </tr>\n",
       "  </tbody>\n",
       "</table>\n",
       "</div>"
      ],
      "text/plain": [
       "          GNDR    ETHCTY     NM\n",
       "count     8073      8073   8073\n",
       "unique       2         7   2811\n",
       "top     FEMALE  HISPANIC  Riley\n",
       "freq      4127      2400     14"
      ]
     },
     "execution_count": 7,
     "metadata": {},
     "output_type": "execute_result"
    }
   ],
   "source": [
    "df.describe(include='O')"
   ]
  },
  {
   "cell_type": "markdown",
   "id": "9dd1b7c9",
   "metadata": {},
   "source": [
    "### Check missing value"
   ]
  },
  {
   "cell_type": "code",
   "execution_count": 8,
   "id": "a6a52ecf",
   "metadata": {},
   "outputs": [
    {
     "data": {
      "text/html": [
       "<div>\n",
       "<style scoped>\n",
       "    .dataframe tbody tr th:only-of-type {\n",
       "        vertical-align: middle;\n",
       "    }\n",
       "\n",
       "    .dataframe tbody tr th {\n",
       "        vertical-align: top;\n",
       "    }\n",
       "\n",
       "    .dataframe thead th {\n",
       "        text-align: right;\n",
       "    }\n",
       "</style>\n",
       "<table border=\"1\" class=\"dataframe\">\n",
       "  <thead>\n",
       "    <tr style=\"text-align: right;\">\n",
       "      <th></th>\n",
       "      <th>missing_value</th>\n",
       "      <th>%</th>\n",
       "    </tr>\n",
       "  </thead>\n",
       "  <tbody>\n",
       "    <tr>\n",
       "      <th>BRTH_YR</th>\n",
       "      <td>0</td>\n",
       "      <td>0.0</td>\n",
       "    </tr>\n",
       "    <tr>\n",
       "      <th>GNDR</th>\n",
       "      <td>0</td>\n",
       "      <td>0.0</td>\n",
       "    </tr>\n",
       "    <tr>\n",
       "      <th>ETHCTY</th>\n",
       "      <td>0</td>\n",
       "      <td>0.0</td>\n",
       "    </tr>\n",
       "    <tr>\n",
       "      <th>NM</th>\n",
       "      <td>0</td>\n",
       "      <td>0.0</td>\n",
       "    </tr>\n",
       "    <tr>\n",
       "      <th>CNT</th>\n",
       "      <td>0</td>\n",
       "      <td>0.0</td>\n",
       "    </tr>\n",
       "    <tr>\n",
       "      <th>RNK</th>\n",
       "      <td>0</td>\n",
       "      <td>0.0</td>\n",
       "    </tr>\n",
       "  </tbody>\n",
       "</table>\n",
       "</div>"
      ],
      "text/plain": [
       "         missing_value    %\n",
       "BRTH_YR              0  0.0\n",
       "GNDR                 0  0.0\n",
       "ETHCTY               0  0.0\n",
       "NM                   0  0.0\n",
       "CNT                  0  0.0\n",
       "RNK                  0  0.0"
      ]
     },
     "execution_count": 8,
     "metadata": {},
     "output_type": "execute_result"
    },
    {
     "data": {
      "image/png": "[encoded data removed]",
      "text/plain": [
       "<Figure size 1080x576 with 1 Axes>"
      ]
     },
     "metadata": {
      "needs_background": "light"
     },
     "output_type": "display_data"
    }
   ],
   "source": [
    "plot_missing_value(df, return_df= True)"
   ]
  },
  {
   "cell_type": "markdown",
   "id": "a2a91b5b",
   "metadata": {},
   "source": [
    "### Top 10 the most name in NYC based on year"
   ]
  },
  {
   "cell_type": "markdown",
   "id": "a05d75f7",
   "metadata": {},
   "source": [
    "#### Top 10 the most name in NYC  in 2011"
   ]
  },
  {
   "cell_type": "code",
   "execution_count": 9,
   "id": "1296f891",
   "metadata": {},
   "outputs": [
    {
     "data": {
      "text/plain": [
       "DYLAN       6\n",
       "RILEY       5\n",
       "RYAN        5\n",
       "ARIEL       5\n",
       "SAMANTHA    4\n",
       "JOSHUA      4\n",
       "REBECCA     4\n",
       "LOGAN       4\n",
       "LIAM        4\n",
       "SARAH       4\n",
       "Name: NM, dtype: int64"
      ]
     },
     "execution_count": 9,
     "metadata": {},
     "output_type": "execute_result"
    }
   ],
   "source": [
    "df[df['BRTH_YR'] == 2011]['NM'].value_counts().head(10)"
   ]
  },
  {
   "cell_type": "markdown",
   "id": "80b31eec",
   "metadata": {},
   "source": [
    "#### Top 10 the most name in NYC  in 2012"
   ]
  },
  {
   "cell_type": "code",
   "execution_count": 10,
   "id": "f372682e",
   "metadata": {},
   "outputs": [
    {
     "data": {
      "text/plain": [
       "JORDAN       6\n",
       "ARIEL        6\n",
       "AVERY        6\n",
       "DYLAN        5\n",
       "RYAN         5\n",
       "RILEY        5\n",
       "ISAAC        4\n",
       "ALEX         4\n",
       "ALEXANDER    4\n",
       "KAYLA        4\n",
       "Name: NM, dtype: int64"
      ]
     },
     "execution_count": 10,
     "metadata": {},
     "output_type": "execute_result"
    }
   ],
   "source": [
    "df[df['BRTH_YR'] == 2012]['NM'].value_counts().head(10)"
   ]
  },
  {
   "cell_type": "markdown",
   "id": "6fb8706f",
   "metadata": {},
   "source": [
    "#### Top 10 the most name in NYC  in 2013"
   ]
  },
  {
   "cell_type": "code",
   "execution_count": 11,
   "id": "8e155ad7",
   "metadata": {
    "scrolled": true
   },
   "outputs": [
    {
     "data": {
      "text/plain": [
       "Avery        8\n",
       "Riley        6\n",
       "Dylan        5\n",
       "Jordan       5\n",
       "Ariel        5\n",
       "Zachary      4\n",
       "Scarlett     4\n",
       "Sebastian    4\n",
       "Kevin        4\n",
       "Sofia        4\n",
       "Name: NM, dtype: int64"
      ]
     },
     "execution_count": 11,
     "metadata": {},
     "output_type": "execute_result"
    }
   ],
   "source": [
    "df[df['BRTH_YR'] == 2013]['NM'].value_counts().head(10)"
   ]
  },
  {
   "cell_type": "markdown",
   "id": "1d7e86c8",
   "metadata": {},
   "source": [
    "#### Top 10 the most name in NYC  in 2014"
   ]
  },
  {
   "cell_type": "code",
   "execution_count": 12,
   "id": "ccc1eb74",
   "metadata": {},
   "outputs": [
    {
     "data": {
      "text/plain": [
       "Riley          8\n",
       "Avery          6\n",
       "Ariel          6\n",
       "Dylan          5\n",
       "Logan          5\n",
       "Jordan         5\n",
       "Kyle           4\n",
       "Christopher    4\n",
       "Daniel         4\n",
       "Matthew        4\n",
       "Name: NM, dtype: int64"
      ]
     },
     "execution_count": 12,
     "metadata": {},
     "output_type": "execute_result"
    }
   ],
   "source": [
    "df[df['BRTH_YR'] == 2014]['NM'].value_counts().head(10)"
   ]
  },
  {
   "cell_type": "markdown",
   "id": "90e9539b",
   "metadata": {},
   "source": [
    "### Top 10 the most name in NYC based on Gender"
   ]
  },
  {
   "cell_type": "code",
   "execution_count": 13,
   "id": "0bb5f600",
   "metadata": {},
   "outputs": [
    {
     "data": {
      "text/plain": [
       "Sarah       8\n",
       "Alyssa      8\n",
       "Kayla       8\n",
       "VICTORIA    8\n",
       "Kaitlyn     8\n",
       "LEAH        8\n",
       "LAUREN      8\n",
       "ZOE         8\n",
       "Jasmine     8\n",
       "ABIGAIL     8\n",
       "Name: NM, dtype: int64"
      ]
     },
     "execution_count": 13,
     "metadata": {},
     "output_type": "execute_result"
    }
   ],
   "source": [
    "df[df['GNDR'] == 'FEMALE']['NM'].value_counts().head(10)"
   ]
  },
  {
   "cell_type": "code",
   "execution_count": 14,
   "id": "e82099aa",
   "metadata": {},
   "outputs": [
    {
     "data": {
      "text/plain": [
       "Eli          8\n",
       "Tristan      8\n",
       "SEAN         8\n",
       "SEBASTIAN    8\n",
       "Austin       8\n",
       "STEVEN       8\n",
       "Elijah       8\n",
       "Anthony      8\n",
       "Eric         8\n",
       "Andrew       8\n",
       "Name: NM, dtype: int64"
      ]
     },
     "execution_count": 14,
     "metadata": {},
     "output_type": "execute_result"
    }
   ],
   "source": [
    "df[df['GNDR'] == 'MALE']['NM'].value_counts().head(10)"
   ]
  },
  {
   "cell_type": "markdown",
   "id": "c71feb2b",
   "metadata": {},
   "source": [
    "### Visualize the number of Gender"
   ]
  },
  {
   "cell_type": "code",
   "execution_count": 15,
   "id": "c3304fe4",
   "metadata": {},
   "outputs": [
    {
     "data": {
      "text/plain": [
       "FEMALE    4127\n",
       "MALE      3946\n",
       "Name: GNDR, dtype: int64"
      ]
     },
     "execution_count": 15,
     "metadata": {},
     "output_type": "execute_result"
    }
   ],
   "source": [
    "df['GNDR'].value_counts()"
   ]
  },
  {
   "cell_type": "code",
   "execution_count": 16,
   "id": "9864f00d",
   "metadata": {},
   "outputs": [
    {
     "name": "stderr",
     "output_type": "stream",
     "text": [
      "C:\\Users\\Malik Afu Hamid\\anaconda3\\lib\\site-packages\\seaborn\\_decorators.py:36: FutureWarning: Pass the following variable as a keyword arg: x. From version 0.12, the only valid positional argument will be `data`, and passing other arguments without an explicit keyword will result in an error or misinterpretation.\n",
      "  warnings.warn(\n"
     ]
    },
    {
     "data": {
      "text/plain": [
       "<AxesSubplot:xlabel='GNDR', ylabel='count'>"
      ]
     },
     "execution_count": 16,
     "metadata": {},
     "output_type": "execute_result"
    },
    {
     "data": {
      "image/png": "[encoded data removed]",
      "text/plain": [
       "<Figure size 432x288 with 1 Axes>"
      ]
     },
     "metadata": {
      "needs_background": "light"
     },
     "output_type": "display_data"
    }
   ],
   "source": [
    "sns.countplot(df.GNDR)"
   ]
  },
  {
   "cell_type": "markdown",
   "id": "d32f3388",
   "metadata": {},
   "source": [
    "### Visualizing GNDR vs RNK"
   ]
  },
  {
   "cell_type": "code",
   "execution_count": 17,
   "id": "b9e0c1eb",
   "metadata": {
    "scrolled": false
   },
   "outputs": [
    {
     "name": "stderr",
     "output_type": "stream",
     "text": [
      "C:\\Users\\Malik Afu Hamid\\anaconda3\\lib\\site-packages\\seaborn\\_decorators.py:36: FutureWarning: Pass the following variables as keyword args: x, y. From version 0.12, the only valid positional argument will be `data`, and passing other arguments without an explicit keyword will result in an error or misinterpretation.\n",
      "  warnings.warn(\n"
     ]
    },
    {
     "data": {
      "text/plain": [
       "<AxesSubplot:xlabel='GNDR', ylabel='RNK'>"
      ]
     },
     "execution_count": 17,
     "metadata": {},
     "output_type": "execute_result"
    },
    {
     "data": {
      "image/png": "[encoded data removed]",
      "text/plain": [
       "<Figure size 432x432 with 1 Axes>"
      ]
     },
     "metadata": {
      "needs_background": "light"
     },
     "output_type": "display_data"
    }
   ],
   "source": [
    "plt.figure(figsize=(6,6))\n",
    "sns.barplot('GNDR', 'RNK', data=df, palette='mako')"
   ]
  },
  {
   "cell_type": "markdown",
   "id": "4be8620b",
   "metadata": {},
   "source": [
    "### Visualizing GNDR vs CNT"
   ]
  },
  {
   "cell_type": "code",
   "execution_count": 18,
   "id": "9a83fac3",
   "metadata": {},
   "outputs": [
    {
     "name": "stderr",
     "output_type": "stream",
     "text": [
      "C:\\Users\\Malik Afu Hamid\\anaconda3\\lib\\site-packages\\seaborn\\_decorators.py:36: FutureWarning: Pass the following variables as keyword args: x, y. From version 0.12, the only valid positional argument will be `data`, and passing other arguments without an explicit keyword will result in an error or misinterpretation.\n",
      "  warnings.warn(\n"
     ]
    },
    {
     "data": {
      "text/plain": [
       "<AxesSubplot:xlabel='GNDR', ylabel='CNT'>"
      ]
     },
     "execution_count": 18,
     "metadata": {},
     "output_type": "execute_result"
    },
    {
     "data": {
      "image/png": "[encoded data removed]",
      "text/plain": [
       "<Figure size 432x432 with 1 Axes>"
      ]
     },
     "metadata": {
      "needs_background": "light"
     },
     "output_type": "display_data"
    }
   ],
   "source": [
    "plt.figure(figsize=(6,6))\n",
    "sns.barplot('GNDR', 'CNT', data=df, palette='flare')"
   ]
  },
  {
   "cell_type": "markdown",
   "id": "1186f23f",
   "metadata": {},
   "source": [
    "### Visualizing stacked histogram "
   ]
  },
  {
   "cell_type": "markdown",
   "id": "9a3affea",
   "metadata": {},
   "source": [
    "#### Create a Stacked Histogram for RNK based on GNDR column"
   ]
  },
  {
   "cell_type": "code",
   "execution_count": 19,
   "id": "61c64d4f",
   "metadata": {},
   "outputs": [
    {
     "name": "stderr",
     "output_type": "stream",
     "text": [
      "C:\\Users\\Malik Afu Hamid\\anaconda3\\lib\\site-packages\\seaborn\\axisgrid.py:337: UserWarning: The `size` parameter has been renamed to `height`; please update your code.\n",
      "  warnings.warn(msg, UserWarning)\n"
     ]
    },
    {
     "data": {
      "text/plain": [
       "<matplotlib.legend.Legend at 0x210bc8a6fa0>"
      ]
     },
     "execution_count": 19,
     "metadata": {},
     "output_type": "execute_result"
    },
    {
     "data": {
      "image/png": "[encoded data removed]",
      "text/plain": [
       "<Figure size 864x432 with 1 Axes>"
      ]
     },
     "metadata": {},
     "output_type": "display_data"
    }
   ],
   "source": [
    "sns.set_style('darkgrid')\n",
    "hist_plot = sns.FacetGrid(df,hue=\"GNDR\",palette='rocket',size=6,aspect=2)\n",
    "hist_plot = hist_plot.map(plt.hist,'RNK',bins=20,alpha=0.7)\n",
    "plt.legend()"
   ]
  },
  {
   "cell_type": "markdown",
   "id": "a59cacc4",
   "metadata": {},
   "source": [
    "#### Create a Stacked Histogram for CNT based on GNDR column"
   ]
  },
  {
   "cell_type": "code",
   "execution_count": 20,
   "id": "53e9b8aa",
   "metadata": {},
   "outputs": [
    {
     "name": "stderr",
     "output_type": "stream",
     "text": [
      "C:\\Users\\Malik Afu Hamid\\anaconda3\\lib\\site-packages\\seaborn\\axisgrid.py:337: UserWarning: The `size` parameter has been renamed to `height`; please update your code.\n",
      "  warnings.warn(msg, UserWarning)\n"
     ]
    },
    {
     "data": {
      "text/plain": [
       "<matplotlib.legend.Legend at 0x210bc7f3670>"
      ]
     },
     "execution_count": 20,
     "metadata": {},
     "output_type": "execute_result"
    },
    {
     "data": {
      "image/png": "[encoded data removed]",
      "text/plain": [
       "<Figure size 864x432 with 1 Axes>"
      ]
     },
     "metadata": {},
     "output_type": "display_data"
    }
   ],
   "source": [
    "sns.set_style('darkgrid')\n",
    "hist_plot = sns.FacetGrid(df,hue=\"GNDR\",palette='rocket',size=6,aspect=2)\n",
    "hist_plot = hist_plot.map(plt.hist,'CNT',bins=20,alpha=0.7)\n",
    "plt.legend()"
   ]
  },
  {
   "cell_type": "markdown",
   "id": "a4613880",
   "metadata": {},
   "source": [
    "#### Create a Stacked Histogram for CNT based on BRTH_YR column"
   ]
  },
  {
   "cell_type": "code",
   "execution_count": 21,
   "id": "eb0a000d",
   "metadata": {},
   "outputs": [
    {
     "name": "stderr",
     "output_type": "stream",
     "text": [
      "C:\\Users\\Malik Afu Hamid\\anaconda3\\lib\\site-packages\\seaborn\\axisgrid.py:337: UserWarning: The `size` parameter has been renamed to `height`; please update your code.\n",
      "  warnings.warn(msg, UserWarning)\n"
     ]
    },
    {
     "data": {
      "text/plain": [
       "<matplotlib.legend.Legend at 0x210bc9b3190>"
      ]
     },
     "execution_count": 21,
     "metadata": {},
     "output_type": "execute_result"
    },
    {
     "data": {
      "image/png": "[encoded data removed]",
      "text/plain": [
       "<Figure size 864x432 with 1 Axes>"
      ]
     },
     "metadata": {},
     "output_type": "display_data"
    }
   ],
   "source": [
    "sns.set_style('darkgrid')\n",
    "hist_plot = sns.FacetGrid(df,hue=\"BRTH_YR\",palette='Set2',size=6,aspect=2)\n",
    "hist_plot = hist_plot.map(plt.hist,'CNT',bins=20,alpha=0.7)\n",
    "plt.legend()"
   ]
  },
  {
   "cell_type": "markdown",
   "id": "e7985acd",
   "metadata": {},
   "source": [
    "#### Create a Stacked Histogram for RNK based on BRTH_YR column"
   ]
  },
  {
   "cell_type": "code",
   "execution_count": 22,
   "id": "17a4017f",
   "metadata": {},
   "outputs": [
    {
     "name": "stderr",
     "output_type": "stream",
     "text": [
      "C:\\Users\\Malik Afu Hamid\\anaconda3\\lib\\site-packages\\seaborn\\axisgrid.py:337: UserWarning: The `size` parameter has been renamed to `height`; please update your code.\n",
      "  warnings.warn(msg, UserWarning)\n"
     ]
    },
    {
     "data": {
      "text/plain": [
       "<matplotlib.legend.Legend at 0x210bcd06f70>"
      ]
     },
     "execution_count": 22,
     "metadata": {},
     "output_type": "execute_result"
    },
    {
     "data": {
      "image/png": "[encoded data removed]",
      "text/plain": [
       "<Figure size 864x432 with 1 Axes>"
      ]
     },
     "metadata": {},
     "output_type": "display_data"
    }
   ],
   "source": [
    "sns.set_style('darkgrid')\n",
    "hist_plot = sns.FacetGrid(df,hue=\"BRTH_YR\",palette='magma',size=6,aspect=2)\n",
    "hist_plot = hist_plot.map(plt.hist,'RNK',bins=20,alpha=0.7)\n",
    "plt.legend()"
   ]
  },
  {
   "cell_type": "markdown",
   "id": "2cbfa705",
   "metadata": {},
   "source": [
    "# 5. Number of Cluster with Elbow Anaysis"
   ]
  },
  {
   "cell_type": "code",
   "execution_count": 23,
   "id": "f29d3610",
   "metadata": {},
   "outputs": [],
   "source": [
    "from kmodes.kprototypes import KPrototypes\n",
    "from tqdm.auto import tqdm\n",
    "import matplotlib.pyplot as plt"
   ]
  },
  {
   "cell_type": "code",
   "execution_count": 24,
   "id": "4886cae9",
   "metadata": {},
   "outputs": [
    {
     "data": {
      "text/html": [
       "<div>\n",
       "<style scoped>\n",
       "    .dataframe tbody tr th:only-of-type {\n",
       "        vertical-align: middle;\n",
       "    }\n",
       "\n",
       "    .dataframe tbody tr th {\n",
       "        vertical-align: top;\n",
       "    }\n",
       "\n",
       "    .dataframe thead th {\n",
       "        text-align: right;\n",
       "    }\n",
       "</style>\n",
       "<table border=\"1\" class=\"dataframe\">\n",
       "  <thead>\n",
       "    <tr style=\"text-align: right;\">\n",
       "      <th></th>\n",
       "      <th>BRTH_YR</th>\n",
       "      <th>GNDR</th>\n",
       "      <th>ETHCTY</th>\n",
       "      <th>NM</th>\n",
       "      <th>CNT</th>\n",
       "      <th>RNK</th>\n",
       "    </tr>\n",
       "  </thead>\n",
       "  <tbody>\n",
       "    <tr>\n",
       "      <th>0</th>\n",
       "      <td>2011</td>\n",
       "      <td>FEMALE</td>\n",
       "      <td>HISPANIC</td>\n",
       "      <td>GERALDINE</td>\n",
       "      <td>13</td>\n",
       "      <td>75</td>\n",
       "    </tr>\n",
       "    <tr>\n",
       "      <th>1</th>\n",
       "      <td>2011</td>\n",
       "      <td>FEMALE</td>\n",
       "      <td>HISPANIC</td>\n",
       "      <td>GIA</td>\n",
       "      <td>21</td>\n",
       "      <td>67</td>\n",
       "    </tr>\n",
       "  </tbody>\n",
       "</table>\n",
       "</div>"
      ],
      "text/plain": [
       "   BRTH_YR    GNDR    ETHCTY         NM  CNT  RNK\n",
       "0     2011  FEMALE  HISPANIC  GERALDINE   13   75\n",
       "1     2011  FEMALE  HISPANIC        GIA   21   67"
      ]
     },
     "execution_count": 24,
     "metadata": {},
     "output_type": "execute_result"
    }
   ],
   "source": [
    "df.head(2)"
   ]
  },
  {
   "cell_type": "code",
   "execution_count": 25,
   "id": "f8ffbe8b",
   "metadata": {},
   "outputs": [
    {
     "data": {
      "text/plain": [
       "[<matplotlib.lines.Line2D at 0x210bc736550>]"
      ]
     },
     "execution_count": 25,
     "metadata": {},
     "output_type": "execute_result"
    },
    {
     "data": {
      "image/png": "[encoded data removed]",
      "text/plain": [
       "<Figure size 432x288 with 1 Axes>"
      ]
     },
     "metadata": {},
     "output_type": "display_data"
    }
   ],
   "source": [
    "clust_list = []\n",
    "for k in list(range(1,10)):\n",
    "    clusters = KPrototypes(n_clusters=k, init='Cao')\n",
    "    clusters.fit_predict(df, categorical=[1,2,3])\n",
    "    clust_list.append(clusters.cost_)\n",
    "\n",
    "plt.title('The Elbow Method')\n",
    "plt.xlabel('Number of Clusters')\n",
    "plt.ylabel('WCSS')\n",
    "plt.plot(clust_list)   "
   ]
  },
  {
   "cell_type": "markdown",
   "id": "46c54950",
   "metadata": {},
   "source": [
    "# 6. Modeling "
   ]
  },
  {
   "cell_type": "code",
   "execution_count": 26,
   "id": "ade1e5f3",
   "metadata": {},
   "outputs": [],
   "source": [
    "from tqdm.auto import tqdm\n",
    "import matplotlib.pyplot as plt"
   ]
  },
  {
   "cell_type": "code",
   "execution_count": 27,
   "id": "d91d90d2",
   "metadata": {
    "scrolled": true
   },
   "outputs": [
    {
     "name": "stdout",
     "output_type": "stream",
     "text": [
      "Init: initializing centroids\n",
      "Init: initializing clusters\n",
      "Init: initializing centroids\n",
      "Init: initializing clusters\n",
      "Starting iterations...\n",
      "Run: 1, iteration: 1/100, moves: 3221, ncost: 19807663.03491816\n",
      "Run: 1, iteration: 2/100, moves: 1561, ncost: 18517589.130584065\n",
      "Run: 1, iteration: 3/100, moves: 1076, ncost: 17010340.814934492\n",
      "Run: 1, iteration: 4/100, moves: 625, ncost: 16268308.465427443\n",
      "Run: 1, iteration: 5/100, moves: 234, ncost: 16078156.650401006\n",
      "Run: 1, iteration: 6/100, moves: 112, ncost: 16033197.620639361\n",
      "Run: 1, iteration: 7/100, moves: 44, ncost: 16025086.616849788\n",
      "Run: 1, iteration: 8/100, moves: 15, ncost: 16024299.377628395\n",
      "Run: 1, iteration: 9/100, moves: 1, ncost: 16024285.32903857\n",
      "Run: 1, iteration: 10/100, moves: 1, ncost: 16024279.157203909\n",
      "Run: 1, iteration: 11/100, moves: 0, ncost: 16024279.157203909\n",
      "Init: initializing centroids\n",
      "Init: initializing clusters\n",
      "Starting iterations...\n",
      "Run: 2, iteration: 1/100, moves: 2394, ncost: 19434860.335669406\n",
      "Run: 2, iteration: 2/100, moves: 1353, ncost: 18134799.382724978\n",
      "Run: 2, iteration: 3/100, moves: 957, ncost: 16703221.081047345\n",
      "Run: 2, iteration: 4/100, moves: 486, ncost: 16177172.566529427\n",
      "Run: 2, iteration: 5/100, moves: 188, ncost: 16052162.90328883\n",
      "Run: 2, iteration: 6/100, moves: 78, ncost: 16027939.954400847\n",
      "Run: 2, iteration: 7/100, moves: 25, ncost: 16025023.496878304\n",
      "Run: 2, iteration: 8/100, moves: 14, ncost: 16024299.377628395\n",
      "Run: 2, iteration: 9/100, moves: 1, ncost: 16024285.32903857\n",
      "Run: 2, iteration: 10/100, moves: 1, ncost: 16024279.157203909\n",
      "Run: 2, iteration: 11/100, moves: 0, ncost: 16024279.157203909\n",
      "Init: initializing centroids\n",
      "Init: initializing clusters\n",
      "Starting iterations...\n",
      "Run: 3, iteration: 1/100, moves: 1565, ncost: 16668444.867998973\n",
      "Run: 3, iteration: 2/100, moves: 443, ncost: 16206041.754598266\n",
      "Run: 3, iteration: 3/100, moves: 199, ncost: 16062362.962622644\n",
      "Run: 3, iteration: 4/100, moves: 87, ncost: 16031790.770888621\n",
      "Run: 3, iteration: 5/100, moves: 39, ncost: 16025086.616849788\n",
      "Run: 3, iteration: 6/100, moves: 15, ncost: 16024299.377628395\n",
      "Run: 3, iteration: 7/100, moves: 1, ncost: 16024285.32903857\n",
      "Run: 3, iteration: 8/100, moves: 1, ncost: 16024279.157203909\n",
      "Run: 3, iteration: 9/100, moves: 0, ncost: 16024279.157203909\n",
      "Init: initializing centroids\n",
      "Init: initializing clusters\n",
      "Starting iterations...\n",
      "Run: 4, iteration: 1/100, moves: 1085, ncost: 16444331.587172884\n",
      "Run: 4, iteration: 2/100, moves: 316, ncost: 16136673.00916228\n",
      "Run: 4, iteration: 3/100, moves: 165, ncost: 16043204.316571152\n",
      "Run: 4, iteration: 4/100, moves: 60, ncost: 16026734.644045256\n",
      "Run: 4, iteration: 5/100, moves: 17, ncost: 16025023.496878304\n",
      "Run: 4, iteration: 6/100, moves: 14, ncost: 16024299.377628395\n",
      "Run: 4, iteration: 7/100, moves: 1, ncost: 16024285.32903857\n",
      "Run: 4, iteration: 8/100, moves: 1, ncost: 16024279.157203909\n",
      "Run: 4, iteration: 9/100, moves: 0, ncost: 16024279.157203909\n",
      "Init: initializing centroids\n",
      "Init: initializing clusters\n",
      "Starting iterations...\n",
      "Run: 5, iteration: 1/100, moves: 1661, ncost: 16724366.229914341\n",
      "Run: 5, iteration: 2/100, moves: 488, ncost: 16211554.263306003\n",
      "Run: 5, iteration: 3/100, moves: 202, ncost: 16063736.770961802\n",
      "Run: 5, iteration: 4/100, moves: 90, ncost: 16031790.770888621\n",
      "Run: 5, iteration: 5/100, moves: 39, ncost: 16025086.616849788\n",
      "Run: 5, iteration: 6/100, moves: 15, ncost: 16024299.377628395\n",
      "Run: 5, iteration: 7/100, moves: 1, ncost: 16024285.32903857\n",
      "Run: 5, iteration: 8/100, moves: 1, ncost: 16024279.157203909\n",
      "Run: 5, iteration: 9/100, moves: 0, ncost: 16024279.157203909\n",
      "Init: initializing centroids\n",
      "Init: initializing clusters\n",
      "Starting iterations...\n",
      "Run: 6, iteration: 1/100, moves: 224, ncost: 16128054.841681818\n",
      "Run: 6, iteration: 2/100, moves: 123, ncost: 16037607.175677823\n",
      "Run: 6, iteration: 3/100, moves: 46, ncost: 16025890.641781505\n",
      "Run: 6, iteration: 4/100, moves: 20, ncost: 16024300.16008545\n",
      "Run: 6, iteration: 5/100, moves: 6, ncost: 16024132.283016216\n",
      "Run: 6, iteration: 6/100, moves: 2, ncost: 16024106.639211701\n",
      "Run: 6, iteration: 7/100, moves: 1, ncost: 16024101.290804513\n",
      "Run: 6, iteration: 8/100, moves: 0, ncost: 16024101.290804513\n",
      "Init: initializing centroids\n",
      "Init: initializing clusters\n",
      "Starting iterations...\n",
      "Run: 7, iteration: 1/100, moves: 1257, ncost: 18998298.03846105\n",
      "Run: 7, iteration: 2/100, moves: 1185, ncost: 17740720.89099255\n",
      "Run: 7, iteration: 3/100, moves: 789, ncost: 16478490.501916375\n",
      "Run: 7, iteration: 4/100, moves: 349, ncost: 16137306.840458626\n",
      "Run: 7, iteration: 5/100, moves: 166, ncost: 16043204.316571152\n",
      "Run: 7, iteration: 6/100, moves: 60, ncost: 16026734.644045256\n",
      "Run: 7, iteration: 7/100, moves: 17, ncost: 16025023.496878304\n",
      "Run: 7, iteration: 8/100, moves: 14, ncost: 16024299.377628395\n",
      "Run: 7, iteration: 9/100, moves: 1, ncost: 16024285.32903857\n",
      "Run: 7, iteration: 10/100, moves: 1, ncost: 16024279.157203909\n",
      "Run: 7, iteration: 11/100, moves: 0, ncost: 16024279.157203909\n",
      "Init: initializing centroids\n",
      "Init: initializing clusters\n",
      "Starting iterations...\n",
      "Run: 8, iteration: 1/100, moves: 192, ncost: 16059034.151187638\n",
      "Run: 8, iteration: 2/100, moves: 71, ncost: 16029456.522967124\n",
      "Run: 8, iteration: 3/100, moves: 28, ncost: 16024896.949636873\n",
      "Run: 8, iteration: 4/100, moves: 11, ncost: 16024300.16008545\n",
      "Run: 8, iteration: 5/100, moves: 6, ncost: 16024132.283016216\n",
      "Run: 8, iteration: 6/100, moves: 2, ncost: 16024106.639211701\n",
      "Run: 8, iteration: 7/100, moves: 1, ncost: 16024101.290804513\n",
      "Run: 8, iteration: 8/100, moves: 0, ncost: 16024101.290804513\n",
      "Init: initializing centroids\n",
      "Init: initializing clusters\n",
      "Starting iterations...\n",
      "Run: 9, iteration: 1/100, moves: 1973, ncost: 19224256.836188026\n",
      "Run: 9, iteration: 2/100, moves: 1158, ncost: 18065601.735657733\n",
      "Run: 9, iteration: 3/100, moves: 913, ncost: 16655469.713536503\n",
      "Run: 9, iteration: 4/100, moves: 455, ncost: 16170746.699252488\n",
      "Run: 9, iteration: 5/100, moves: 182, ncost: 16051749.158952149\n",
      "Run: 9, iteration: 6/100, moves: 77, ncost: 16027939.954400847\n",
      "Run: 9, iteration: 7/100, moves: 25, ncost: 16025023.496878304\n",
      "Run: 9, iteration: 8/100, moves: 14, ncost: 16024299.377628395\n",
      "Run: 9, iteration: 9/100, moves: 1, ncost: 16024285.32903857\n",
      "Run: 9, iteration: 10/100, moves: 1, ncost: 16024279.157203909\n",
      "Run: 9, iteration: 11/100, moves: 0, ncost: 16024279.157203909\n",
      "Init: initializing centroids\n",
      "Init: initializing clusters\n",
      "Starting iterations...\n",
      "Run: 10, iteration: 1/100, moves: 3423, ncost: 19466502.214193527\n",
      "Run: 10, iteration: 2/100, moves: 1323, ncost: 18233087.761555128\n",
      "Run: 10, iteration: 3/100, moves: 986, ncost: 16770770.636359222\n",
      "Run: 10, iteration: 4/100, moves: 510, ncost: 16205381.04757078\n",
      "Run: 10, iteration: 5/100, moves: 199, ncost: 16060983.664788041\n",
      "Run: 10, iteration: 6/100, moves: 85, ncost: 16031527.749651749\n",
      "Run: 10, iteration: 7/100, moves: 38, ncost: 16025086.616849788\n",
      "Run: 10, iteration: 8/100, moves: 15, ncost: 16024299.377628395\n",
      "Run: 10, iteration: 9/100, moves: 1, ncost: 16024285.32903857\n",
      "Run: 10, iteration: 10/100, moves: 1, ncost: 16024279.157203909\n",
      "Run: 10, iteration: 11/100, moves: 0, ncost: 16024279.157203909\n",
      "Best run was number 6\n"
     ]
    }
   ],
   "source": [
    "model = KPrototypes(n_clusters=2, random_state = 42, verbose=2, init='Cao')\n",
    "cluster = model.fit_predict(df, categorical = [1,2,3])"
   ]
  },
  {
   "cell_type": "code",
   "execution_count": 28,
   "id": "56fb80c5",
   "metadata": {},
   "outputs": [
    {
     "data": {
      "text/plain": [
       "[array([[2012.49809403,  134.88564168,   16.59339263],\n",
       "        [2012.52511666,   23.63491628,   61.66675817]]),\n",
       " array([['MALE', 'HISPANIC', 'ETHAN'],\n",
       "        ['FEMALE', 'HISPANIC', 'Avery']], dtype='<U8')]"
      ]
     },
     "execution_count": 28,
     "metadata": {},
     "output_type": "execute_result"
    }
   ],
   "source": [
    "model.cluster_centroids_"
   ]
  },
  {
   "cell_type": "code",
   "execution_count": 29,
   "id": "53970c48",
   "metadata": {},
   "outputs": [
    {
     "data": {
      "text/html": [
       "<div>\n",
       "<style scoped>\n",
       "    .dataframe tbody tr th:only-of-type {\n",
       "        vertical-align: middle;\n",
       "    }\n",
       "\n",
       "    .dataframe tbody tr th {\n",
       "        vertical-align: top;\n",
       "    }\n",
       "\n",
       "    .dataframe thead th {\n",
       "        text-align: right;\n",
       "    }\n",
       "</style>\n",
       "<table border=\"1\" class=\"dataframe\">\n",
       "  <thead>\n",
       "    <tr style=\"text-align: right;\">\n",
       "      <th></th>\n",
       "      <th>BRTH_YR</th>\n",
       "      <th>GNDR</th>\n",
       "      <th>ETHCTY</th>\n",
       "      <th>NM</th>\n",
       "      <th>CNT</th>\n",
       "      <th>RNK</th>\n",
       "      <th>Clusters</th>\n",
       "    </tr>\n",
       "  </thead>\n",
       "  <tbody>\n",
       "    <tr>\n",
       "      <th>0</th>\n",
       "      <td>2011</td>\n",
       "      <td>FEMALE</td>\n",
       "      <td>HISPANIC</td>\n",
       "      <td>GERALDINE</td>\n",
       "      <td>13</td>\n",
       "      <td>75</td>\n",
       "      <td>1</td>\n",
       "    </tr>\n",
       "    <tr>\n",
       "      <th>1</th>\n",
       "      <td>2011</td>\n",
       "      <td>FEMALE</td>\n",
       "      <td>HISPANIC</td>\n",
       "      <td>GIA</td>\n",
       "      <td>21</td>\n",
       "      <td>67</td>\n",
       "      <td>1</td>\n",
       "    </tr>\n",
       "    <tr>\n",
       "      <th>2</th>\n",
       "      <td>2011</td>\n",
       "      <td>FEMALE</td>\n",
       "      <td>HISPANIC</td>\n",
       "      <td>GIANNA</td>\n",
       "      <td>49</td>\n",
       "      <td>42</td>\n",
       "      <td>1</td>\n",
       "    </tr>\n",
       "    <tr>\n",
       "      <th>3</th>\n",
       "      <td>2011</td>\n",
       "      <td>FEMALE</td>\n",
       "      <td>HISPANIC</td>\n",
       "      <td>GISELLE</td>\n",
       "      <td>38</td>\n",
       "      <td>51</td>\n",
       "      <td>1</td>\n",
       "    </tr>\n",
       "    <tr>\n",
       "      <th>4</th>\n",
       "      <td>2011</td>\n",
       "      <td>FEMALE</td>\n",
       "      <td>HISPANIC</td>\n",
       "      <td>GRACE</td>\n",
       "      <td>36</td>\n",
       "      <td>53</td>\n",
       "      <td>1</td>\n",
       "    </tr>\n",
       "    <tr>\n",
       "      <th>...</th>\n",
       "      <td>...</td>\n",
       "      <td>...</td>\n",
       "      <td>...</td>\n",
       "      <td>...</td>\n",
       "      <td>...</td>\n",
       "      <td>...</td>\n",
       "      <td>...</td>\n",
       "    </tr>\n",
       "    <tr>\n",
       "      <th>13957</th>\n",
       "      <td>2014</td>\n",
       "      <td>MALE</td>\n",
       "      <td>WHITE NON HISPANIC</td>\n",
       "      <td>Yousef</td>\n",
       "      <td>18</td>\n",
       "      <td>94</td>\n",
       "      <td>1</td>\n",
       "    </tr>\n",
       "    <tr>\n",
       "      <th>13958</th>\n",
       "      <td>2014</td>\n",
       "      <td>MALE</td>\n",
       "      <td>WHITE NON HISPANIC</td>\n",
       "      <td>Youssef</td>\n",
       "      <td>24</td>\n",
       "      <td>88</td>\n",
       "      <td>1</td>\n",
       "    </tr>\n",
       "    <tr>\n",
       "      <th>13959</th>\n",
       "      <td>2014</td>\n",
       "      <td>MALE</td>\n",
       "      <td>WHITE NON HISPANIC</td>\n",
       "      <td>Yusuf</td>\n",
       "      <td>16</td>\n",
       "      <td>96</td>\n",
       "      <td>1</td>\n",
       "    </tr>\n",
       "    <tr>\n",
       "      <th>13960</th>\n",
       "      <td>2014</td>\n",
       "      <td>MALE</td>\n",
       "      <td>WHITE NON HISPANIC</td>\n",
       "      <td>Zachary</td>\n",
       "      <td>90</td>\n",
       "      <td>39</td>\n",
       "      <td>0</td>\n",
       "    </tr>\n",
       "    <tr>\n",
       "      <th>13961</th>\n",
       "      <td>2014</td>\n",
       "      <td>MALE</td>\n",
       "      <td>WHITE NON HISPANIC</td>\n",
       "      <td>Zev</td>\n",
       "      <td>49</td>\n",
       "      <td>65</td>\n",
       "      <td>1</td>\n",
       "    </tr>\n",
       "  </tbody>\n",
       "</table>\n",
       "<p>8073 rows × 7 columns</p>\n",
       "</div>"
      ],
      "text/plain": [
       "       BRTH_YR    GNDR              ETHCTY         NM  CNT  RNK  Clusters\n",
       "0         2011  FEMALE            HISPANIC  GERALDINE   13   75         1\n",
       "1         2011  FEMALE            HISPANIC        GIA   21   67         1\n",
       "2         2011  FEMALE            HISPANIC     GIANNA   49   42         1\n",
       "3         2011  FEMALE            HISPANIC    GISELLE   38   51         1\n",
       "4         2011  FEMALE            HISPANIC      GRACE   36   53         1\n",
       "...        ...     ...                 ...        ...  ...  ...       ...\n",
       "13957     2014    MALE  WHITE NON HISPANIC     Yousef   18   94         1\n",
       "13958     2014    MALE  WHITE NON HISPANIC    Youssef   24   88         1\n",
       "13959     2014    MALE  WHITE NON HISPANIC      Yusuf   16   96         1\n",
       "13960     2014    MALE  WHITE NON HISPANIC    Zachary   90   39         0\n",
       "13961     2014    MALE  WHITE NON HISPANIC        Zev   49   65         1\n",
       "\n",
       "[8073 rows x 7 columns]"
      ]
     },
     "execution_count": 29,
     "metadata": {},
     "output_type": "execute_result"
    }
   ],
   "source": [
    "df_pred = df.copy()\n",
    "df_pred['Clusters'] = cluster\n",
    "df_pred"
   ]
  },
  {
   "cell_type": "markdown",
   "id": "2231605a",
   "metadata": {},
   "source": [
    "# 7. Analyze the cluster"
   ]
  },
  {
   "cell_type": "code",
   "execution_count": 30,
   "id": "2528f29e",
   "metadata": {},
   "outputs": [],
   "source": [
    "num,cat = model.cluster_centroids_"
   ]
  },
  {
   "cell_type": "code",
   "execution_count": 31,
   "id": "717cec97",
   "metadata": {},
   "outputs": [
    {
     "data": {
      "text/html": [
       "<div>\n",
       "<style scoped>\n",
       "    .dataframe tbody tr th:only-of-type {\n",
       "        vertical-align: middle;\n",
       "    }\n",
       "\n",
       "    .dataframe tbody tr th {\n",
       "        vertical-align: top;\n",
       "    }\n",
       "\n",
       "    .dataframe thead th {\n",
       "        text-align: right;\n",
       "    }\n",
       "</style>\n",
       "<table border=\"1\" class=\"dataframe\">\n",
       "  <thead>\n",
       "    <tr style=\"text-align: right;\">\n",
       "      <th></th>\n",
       "      <th>GNDR</th>\n",
       "      <th>ETHCTY</th>\n",
       "      <th>NM</th>\n",
       "      <th>BRTH_YR</th>\n",
       "      <th>CNT</th>\n",
       "      <th>RNK</th>\n",
       "    </tr>\n",
       "  </thead>\n",
       "  <tbody>\n",
       "    <tr>\n",
       "      <th>0</th>\n",
       "      <td>MALE</td>\n",
       "      <td>HISPANIC</td>\n",
       "      <td>ETHAN</td>\n",
       "      <td>2012.498094</td>\n",
       "      <td>134.885642</td>\n",
       "      <td>16.593393</td>\n",
       "    </tr>\n",
       "    <tr>\n",
       "      <th>1</th>\n",
       "      <td>FEMALE</td>\n",
       "      <td>HISPANIC</td>\n",
       "      <td>Avery</td>\n",
       "      <td>2012.525117</td>\n",
       "      <td>23.634916</td>\n",
       "      <td>61.666758</td>\n",
       "    </tr>\n",
       "  </tbody>\n",
       "</table>\n",
       "</div>"
      ],
      "text/plain": [
       "     GNDR    ETHCTY     NM      BRTH_YR         CNT        RNK\n",
       "0    MALE  HISPANIC  ETHAN  2012.498094  134.885642  16.593393\n",
       "1  FEMALE  HISPANIC  Avery  2012.525117   23.634916  61.666758"
      ]
     },
     "execution_count": 31,
     "metadata": {},
     "output_type": "execute_result"
    }
   ],
   "source": [
    "df_num = pd.DataFrame(num, columns=df.columns[[0,4,5]])\n",
    "df_cat = pd.DataFrame(cat, columns=df.columns[[1,2,3]])\n",
    "df_cat.join(df_num)"
   ]
  },
  {
   "cell_type": "markdown",
   "id": "77fcc177",
   "metadata": {},
   "source": [
    "### Cluster 1 "
   ]
  },
  {
   "cell_type": "code",
   "execution_count": 32,
   "id": "ad34700b",
   "metadata": {},
   "outputs": [
    {
     "data": {
      "text/html": [
       "<div>\n",
       "<style scoped>\n",
       "    .dataframe tbody tr th:only-of-type {\n",
       "        vertical-align: middle;\n",
       "    }\n",
       "\n",
       "    .dataframe tbody tr th {\n",
       "        vertical-align: top;\n",
       "    }\n",
       "\n",
       "    .dataframe thead th {\n",
       "        text-align: right;\n",
       "    }\n",
       "</style>\n",
       "<table border=\"1\" class=\"dataframe\">\n",
       "  <thead>\n",
       "    <tr style=\"text-align: right;\">\n",
       "      <th></th>\n",
       "      <th>BRTH_YR</th>\n",
       "      <th>GNDR</th>\n",
       "      <th>ETHCTY</th>\n",
       "      <th>NM</th>\n",
       "      <th>CNT</th>\n",
       "      <th>RNK</th>\n",
       "      <th>Clusters</th>\n",
       "    </tr>\n",
       "  </thead>\n",
       "  <tbody>\n",
       "    <tr>\n",
       "      <th>6</th>\n",
       "      <td>2011</td>\n",
       "      <td>FEMALE</td>\n",
       "      <td>HISPANIC</td>\n",
       "      <td>HAILEY</td>\n",
       "      <td>126</td>\n",
       "      <td>8</td>\n",
       "      <td>0</td>\n",
       "    </tr>\n",
       "    <tr>\n",
       "      <th>22</th>\n",
       "      <td>2011</td>\n",
       "      <td>FEMALE</td>\n",
       "      <td>HISPANIC</td>\n",
       "      <td>ISABELLA</td>\n",
       "      <td>331</td>\n",
       "      <td>1</td>\n",
       "      <td>0</td>\n",
       "    </tr>\n",
       "    <tr>\n",
       "      <th>71</th>\n",
       "      <td>2011</td>\n",
       "      <td>FEMALE</td>\n",
       "      <td>HISPANIC</td>\n",
       "      <td>KAYLEE</td>\n",
       "      <td>83</td>\n",
       "      <td>20</td>\n",
       "      <td>0</td>\n",
       "    </tr>\n",
       "    <tr>\n",
       "      <th>81</th>\n",
       "      <td>2011</td>\n",
       "      <td>FEMALE</td>\n",
       "      <td>HISPANIC</td>\n",
       "      <td>KIMBERLY</td>\n",
       "      <td>103</td>\n",
       "      <td>13</td>\n",
       "      <td>0</td>\n",
       "    </tr>\n",
       "    <tr>\n",
       "      <th>90</th>\n",
       "      <td>2011</td>\n",
       "      <td>FEMALE</td>\n",
       "      <td>HISPANIC</td>\n",
       "      <td>LEAH</td>\n",
       "      <td>123</td>\n",
       "      <td>9</td>\n",
       "      <td>0</td>\n",
       "    </tr>\n",
       "  </tbody>\n",
       "</table>\n",
       "</div>"
      ],
      "text/plain": [
       "    BRTH_YR    GNDR    ETHCTY        NM  CNT  RNK  Clusters\n",
       "6      2011  FEMALE  HISPANIC    HAILEY  126    8         0\n",
       "22     2011  FEMALE  HISPANIC  ISABELLA  331    1         0\n",
       "71     2011  FEMALE  HISPANIC    KAYLEE   83   20         0\n",
       "81     2011  FEMALE  HISPANIC  KIMBERLY  103   13         0\n",
       "90     2011  FEMALE  HISPANIC      LEAH  123    9         0"
      ]
     },
     "execution_count": 32,
     "metadata": {},
     "output_type": "execute_result"
    }
   ],
   "source": [
    "df_pred[df_pred['Clusters'] == 0].head()"
   ]
  },
  {
   "cell_type": "markdown",
   "id": "9968cfe8",
   "metadata": {},
   "source": [
    "### Cluster 2 "
   ]
  },
  {
   "cell_type": "code",
   "execution_count": 33,
   "id": "85a718be",
   "metadata": {},
   "outputs": [
    {
     "data": {
      "text/html": [
       "<div>\n",
       "<style scoped>\n",
       "    .dataframe tbody tr th:only-of-type {\n",
       "        vertical-align: middle;\n",
       "    }\n",
       "\n",
       "    .dataframe tbody tr th {\n",
       "        vertical-align: top;\n",
       "    }\n",
       "\n",
       "    .dataframe thead th {\n",
       "        text-align: right;\n",
       "    }\n",
       "</style>\n",
       "<table border=\"1\" class=\"dataframe\">\n",
       "  <thead>\n",
       "    <tr style=\"text-align: right;\">\n",
       "      <th></th>\n",
       "      <th>BRTH_YR</th>\n",
       "      <th>GNDR</th>\n",
       "      <th>ETHCTY</th>\n",
       "      <th>NM</th>\n",
       "      <th>CNT</th>\n",
       "      <th>RNK</th>\n",
       "      <th>Clusters</th>\n",
       "    </tr>\n",
       "  </thead>\n",
       "  <tbody>\n",
       "    <tr>\n",
       "      <th>0</th>\n",
       "      <td>2011</td>\n",
       "      <td>FEMALE</td>\n",
       "      <td>HISPANIC</td>\n",
       "      <td>GERALDINE</td>\n",
       "      <td>13</td>\n",
       "      <td>75</td>\n",
       "      <td>1</td>\n",
       "    </tr>\n",
       "    <tr>\n",
       "      <th>1</th>\n",
       "      <td>2011</td>\n",
       "      <td>FEMALE</td>\n",
       "      <td>HISPANIC</td>\n",
       "      <td>GIA</td>\n",
       "      <td>21</td>\n",
       "      <td>67</td>\n",
       "      <td>1</td>\n",
       "    </tr>\n",
       "    <tr>\n",
       "      <th>2</th>\n",
       "      <td>2011</td>\n",
       "      <td>FEMALE</td>\n",
       "      <td>HISPANIC</td>\n",
       "      <td>GIANNA</td>\n",
       "      <td>49</td>\n",
       "      <td>42</td>\n",
       "      <td>1</td>\n",
       "    </tr>\n",
       "    <tr>\n",
       "      <th>3</th>\n",
       "      <td>2011</td>\n",
       "      <td>FEMALE</td>\n",
       "      <td>HISPANIC</td>\n",
       "      <td>GISELLE</td>\n",
       "      <td>38</td>\n",
       "      <td>51</td>\n",
       "      <td>1</td>\n",
       "    </tr>\n",
       "    <tr>\n",
       "      <th>4</th>\n",
       "      <td>2011</td>\n",
       "      <td>FEMALE</td>\n",
       "      <td>HISPANIC</td>\n",
       "      <td>GRACE</td>\n",
       "      <td>36</td>\n",
       "      <td>53</td>\n",
       "      <td>1</td>\n",
       "    </tr>\n",
       "  </tbody>\n",
       "</table>\n",
       "</div>"
      ],
      "text/plain": [
       "   BRTH_YR    GNDR    ETHCTY         NM  CNT  RNK  Clusters\n",
       "0     2011  FEMALE  HISPANIC  GERALDINE   13   75         1\n",
       "1     2011  FEMALE  HISPANIC        GIA   21   67         1\n",
       "2     2011  FEMALE  HISPANIC     GIANNA   49   42         1\n",
       "3     2011  FEMALE  HISPANIC    GISELLE   38   51         1\n",
       "4     2011  FEMALE  HISPANIC      GRACE   36   53         1"
      ]
     },
     "execution_count": 33,
     "metadata": {},
     "output_type": "execute_result"
    }
   ],
   "source": [
    "df_pred[df_pred['Clusters'] == 1].head()"
   ]
  }
 ],
 "metadata": {
  "kernelspec": {
   "display_name": "Python 3 (ipykernel)",
   "language": "python",
   "name": "python3"
  },
  "language_info": {
   "codemirror_mode": {
    "name": "ipython",
    "version": 3
   },
   "file_extension": ".py",
   "mimetype": "text/x-python",
   "name": "python",
   "nbconvert_exporter": "python",
   "pygments_lexer": "ipython3",
   "version": "3.8.12"
  },
  "varInspector": {
   "cols": {
    "lenName": 16,
    "lenType": 16,
    "lenVar": 40
   },
   "kernels_config": {
    "python": {
     "delete_cmd_postfix": "",
     "delete_cmd_prefix": "del ",
     "library": "var_list.py",
     "varRefreshCmd": "print(var_dic_list())"
    },
    "r": {
     "delete_cmd_postfix": ") ",
     "delete_cmd_prefix": "rm(",
     "library": "var_list.r",
     "varRefreshCmd": "cat(var_dic_list()) "
    }
   },
   "types_to_exclude": [
    "module",
    "function",
    "builtin_function_or_method",
    "instance",
    "_Feature"
   ],
   "window_display": false
  }
 },
 "nbformat": 4,
 "nbformat_minor": 5
}
